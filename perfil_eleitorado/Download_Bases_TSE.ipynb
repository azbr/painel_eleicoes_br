{
 "cells": [
  {
   "cell_type": "markdown",
   "metadata": {},
   "source": [
    "TODO:\n",
    "\n",
    "    -[ ] REPLICAR O PROCEDIMENTO ABAIXO PARA OS OUTROS REPOS;"
   ]
  },
  {
   "cell_type": "code",
   "execution_count": 1,
   "metadata": {
    "ExecuteTime": {
     "end_time": "2019-11-03T15:46:54.917083Z",
     "start_time": "2019-11-03T15:46:54.614804Z"
    }
   },
   "outputs": [],
   "source": [
    "import os\n",
    "import time\n",
    "import requests\n",
    "from tqdm import tqdm\n"
   ]
  },
  {
   "cell_type": "code",
   "execution_count": 19,
   "metadata": {
    "ExecuteTime": {
     "end_time": "2019-11-10T03:19:35.836371Z",
     "start_time": "2019-11-10T03:19:35.831624Z"
    }
   },
   "outputs": [],
   "source": [
    "perfil_eleitorado = 'http://agencia.tse.jus.br/estatistica/sead/odsele/perfil_eleitorado/perfil_eleitorado_{}.zip'\n",
    "prest_contas_polit = 'http://agencia.tse.jus.br/estatistica/sead/odsele/prestacao_contas_anual_partidaria/prestacao_contas_anual_partidaria_{}.zip'\n",
    "resultados_anos = 'http://agencia.tse.jus.br/estatistica/sead/odsele/votacao_partido_munzona/votacao_partido_munzona_{}.zip'\n",
    "partidos_anos = 'http://www.tse.jus.br/hotsites/pesquisas-eleitorais/partidos_anos/{}.html'"
   ]
  },
  {
   "cell_type": "code",
   "execution_count": 22,
   "metadata": {
    "ExecuteTime": {
     "end_time": "2019-11-10T03:27:42.056227Z",
     "start_time": "2019-11-10T03:27:42.052353Z"
    }
   },
   "outputs": [],
   "source": [
    "bases_tse = [\n",
    "    ('perfil_eleitorado', perfil_eleitorado),\n",
    "    ('prest_contas_polit', prest_contas_polit),\n",
    "    ('resultados_anos', resultados_anos),\n",
    "    ('partidos_anos', partidos_anos),\n",
    "]"
   ]
  },
  {
   "cell_type": "markdown",
   "metadata": {},
   "source": [
    "Testando download da base de dados de perfil do eleitorado do TSE"
   ]
  },
  {
   "cell_type": "code",
   "execution_count": 16,
   "metadata": {
    "ExecuteTime": {
     "end_time": "2019-11-03T16:16:19.091491Z",
     "start_time": "2019-11-03T16:11:47.138465Z"
    }
   },
   "outputs": [
    {
     "name": "stdout",
     "output_type": "stream",
     "text": [
      "Buscando dados de 1994\n"
     ]
    },
    {
     "name": "stderr",
     "output_type": "stream",
     "text": [
      "  2%|▏         | 24.6k/1.11M [00:00<00:05, 198kiB/s]"
     ]
    },
    {
     "name": "stdout",
     "output_type": "stream",
     "text": [
      "Página Encontrada\n",
      "Salvando Arquivo '1994.zip'\n"
     ]
    },
    {
     "name": "stderr",
     "output_type": "stream",
     "text": [
      "100%|██████████| 1.11M/1.11M [00:01<00:00, 723kiB/s]\n"
     ]
    },
    {
     "name": "stdout",
     "output_type": "stream",
     "text": [
      "Pronto!\n"
     ]
    },
    {
     "name": "stderr",
     "output_type": "stream",
     "text": [
      "  6%|▋         | 75.8k/1.17M [00:00<00:01, 755kiB/s]"
     ]
    },
    {
     "name": "stdout",
     "output_type": "stream",
     "text": [
      "Buscando dados de 1996\n",
      "Página Encontrada\n",
      "Salvando Arquivo '1996.zip'\n"
     ]
    },
    {
     "name": "stderr",
     "output_type": "stream",
     "text": [
      "100%|██████████| 1.17M/1.17M [00:01<00:00, 817kiB/s]\n"
     ]
    },
    {
     "name": "stdout",
     "output_type": "stream",
     "text": [
      "Pronto!\n"
     ]
    },
    {
     "name": "stderr",
     "output_type": "stream",
     "text": [
      "\r",
      "  0%|          | 0.00/1.16M [00:00<?, ?iB/s]"
     ]
    },
    {
     "name": "stdout",
     "output_type": "stream",
     "text": [
      "Buscando dados de 1998\n",
      "Página Encontrada\n",
      "Salvando Arquivo '1998.zip'\n"
     ]
    },
    {
     "name": "stderr",
     "output_type": "stream",
     "text": [
      "100%|██████████| 1.16M/1.16M [00:01<00:00, 666kiB/s]\n"
     ]
    },
    {
     "name": "stdout",
     "output_type": "stream",
     "text": [
      "Pronto!\n"
     ]
    },
    {
     "name": "stderr",
     "output_type": "stream",
     "text": [
      "\r",
      "  0%|          | 0.00/4.96M [00:00<?, ?iB/s]"
     ]
    },
    {
     "name": "stdout",
     "output_type": "stream",
     "text": [
      "Buscando dados de 2000\n",
      "Página Encontrada\n",
      "Salvando Arquivo '2000.zip'\n"
     ]
    },
    {
     "name": "stderr",
     "output_type": "stream",
     "text": [
      "100%|██████████| 4.96M/4.96M [00:06<00:00, 712kiB/s]\n"
     ]
    },
    {
     "name": "stdout",
     "output_type": "stream",
     "text": [
      "Pronto!\n",
      "Buscando dados de 2002\n",
      "Página Encontrada\n",
      "Arquivo já baixado!\n",
      "Buscando dados de 2004\n",
      "Página Encontrada\n",
      "Arquivo já baixado!\n"
     ]
    },
    {
     "name": "stderr",
     "output_type": "stream",
     "text": [
      "  2%|▏         | 75.8k/5.01M [00:00<00:06, 747kiB/s]"
     ]
    },
    {
     "name": "stdout",
     "output_type": "stream",
     "text": [
      "Buscando dados de 2006\n",
      "Página Encontrada\n",
      "Salvando Arquivo '2006.zip'\n"
     ]
    },
    {
     "name": "stderr",
     "output_type": "stream",
     "text": [
      "100%|██████████| 5.01M/5.01M [00:06<00:00, 807kiB/s]\n"
     ]
    },
    {
     "name": "stdout",
     "output_type": "stream",
     "text": [
      "Pronto!\n"
     ]
    },
    {
     "name": "stderr",
     "output_type": "stream",
     "text": [
      "\r",
      "  0%|          | 0.00/5.12M [00:00<?, ?iB/s]"
     ]
    },
    {
     "name": "stdout",
     "output_type": "stream",
     "text": [
      "Buscando dados de 2008\n",
      "Página Encontrada\n",
      "Salvando Arquivo '2008.zip'\n"
     ]
    },
    {
     "name": "stderr",
     "output_type": "stream",
     "text": [
      "100%|██████████| 5.12M/5.12M [00:07<00:00, 722kiB/s]\n"
     ]
    },
    {
     "name": "stdout",
     "output_type": "stream",
     "text": [
      "Pronto!\n"
     ]
    },
    {
     "name": "stderr",
     "output_type": "stream",
     "text": [
      "\r",
      "  0%|          | 0.00/5.13M [00:00<?, ?iB/s]"
     ]
    },
    {
     "name": "stdout",
     "output_type": "stream",
     "text": [
      "Buscando dados de 2010\n",
      "Página Encontrada\n",
      "Salvando Arquivo '2010.zip'\n"
     ]
    },
    {
     "name": "stderr",
     "output_type": "stream",
     "text": [
      "100%|██████████| 5.13M/5.13M [00:07<00:00, 692kiB/s]\n"
     ]
    },
    {
     "name": "stdout",
     "output_type": "stream",
     "text": [
      "Pronto!\n"
     ]
    },
    {
     "name": "stderr",
     "output_type": "stream",
     "text": [
      "\r",
      "  0%|          | 0.00/5.20M [00:00<?, ?iB/s]"
     ]
    },
    {
     "name": "stdout",
     "output_type": "stream",
     "text": [
      "Buscando dados de 2012\n",
      "Página Encontrada\n",
      "Salvando Arquivo '2012.zip'\n"
     ]
    },
    {
     "name": "stderr",
     "output_type": "stream",
     "text": [
      "100%|██████████| 5.20M/5.20M [00:07<00:00, 700kiB/s]\n"
     ]
    },
    {
     "name": "stdout",
     "output_type": "stream",
     "text": [
      "Pronto!\n"
     ]
    },
    {
     "name": "stderr",
     "output_type": "stream",
     "text": [
      "\r",
      "  0%|          | 0.00/5.13M [00:00<?, ?iB/s]"
     ]
    },
    {
     "name": "stdout",
     "output_type": "stream",
     "text": [
      "Buscando dados de 2014\n",
      "Página Encontrada\n",
      "Salvando Arquivo '2014.zip'\n"
     ]
    },
    {
     "name": "stderr",
     "output_type": "stream",
     "text": [
      "100%|██████████| 5.13M/5.13M [00:08<00:00, 611kiB/s]\n"
     ]
    },
    {
     "name": "stdout",
     "output_type": "stream",
     "text": [
      "Pronto!\n"
     ]
    },
    {
     "name": "stderr",
     "output_type": "stream",
     "text": [
      "\r",
      "  0%|          | 0.00/5.41M [00:00<?, ?iB/s]"
     ]
    },
    {
     "name": "stdout",
     "output_type": "stream",
     "text": [
      "Buscando dados de 2016\n",
      "Página Encontrada\n",
      "Salvando Arquivo '2016.zip'\n"
     ]
    },
    {
     "name": "stderr",
     "output_type": "stream",
     "text": [
      "100%|██████████| 5.41M/5.41M [00:08<00:00, 624kiB/s]\n"
     ]
    },
    {
     "name": "stdout",
     "output_type": "stream",
     "text": [
      "Pronto!\n"
     ]
    },
    {
     "name": "stderr",
     "output_type": "stream",
     "text": [
      "\r",
      "  0%|          | 0.00/35.9M [00:00<?, ?iB/s]"
     ]
    },
    {
     "name": "stdout",
     "output_type": "stream",
     "text": [
      "Buscando dados de 2018\n",
      "Página Encontrada\n",
      "Salvando Arquivo '2018.zip'\n"
     ]
    },
    {
     "name": "stderr",
     "output_type": "stream",
     "text": [
      " 85%|████████▌ | 30.5M/35.9M [02:53<00:30, 175kiB/s]   \n"
     ]
    },
    {
     "name": "stdout",
     "output_type": "stream",
     "text": [
      "ERROR, something went wrong\n"
     ]
    }
   ],
   "source": [
    "def baixar_dados(db_link:str, lista_anos:list):\n",
    "    \"\"\"\n",
    "    Método para recuperar dados do TSE baseado num link do repositório eleitoral\n",
    "    \"\"\"\n",
    "    for ano in range(1994,2020,2):\n",
    "        print(f\"Buscando dados de {ano}\")\n",
    "        try:\n",
    "            perfil_eleitorado = db_link[1].format(ano)\n",
    "            resposta = requests.get(url=perfil_eleitorado, stream=True)\n",
    "            resposta.raise_for_status()\n",
    "        except requests.HTTPError as http_err:\n",
    "            print(f'HTTP error occurred: {http_err}')\n",
    "        except Exception as err:\n",
    "            print(f'Other error occurred: {err}')\n",
    "        else:\n",
    "            print('Página Encontrada')\n",
    "            if resposta.headers['Content-Type'] == 'application/zip':\n",
    "                # TODO: Colocar criação de pasta!\n",
    "                if not os.path.exists(f'{db_link[0]}/{ano}.zip'):\n",
    "                    print(f\"Salvando Arquivo '{ano}.zip'\")\n",
    "                    total_size = int(resposta.headers.get('content-length', 0))\n",
    "                    block_size = 1024 #1 Kilobyte\n",
    "                    t=tqdm(total=total_size, unit='iB', unit_scale=True)\n",
    "                    with open(f'{db_link[0]}/{ano}.zip','wb') as file:\n",
    "                        for data in resposta.iter_content(block_size):\n",
    "                            t.update(len(data))\n",
    "                            file.write(data)\n",
    "                    t.close()\n",
    "                    if total_size != 0 and t.n != total_size:\n",
    "                        print(f\"ERRO, algo errado no download. Confira o arquivo {ano}.zip!\")\n",
    "                    else:\n",
    "                        print(f\"Pronto!\")\n",
    "                else:\n",
    "                    print('Arquivo já baixado!')\n",
    "        time.sleep(3.)\n",
    "    return True"
   ]
  },
  {
   "cell_type": "code",
   "execution_count": 20,
   "metadata": {
    "ExecuteTime": {
     "end_time": "2019-11-03T16:19:57.155713Z",
     "start_time": "2019-11-03T16:19:57.151496Z"
    }
   },
   "outputs": [
    {
     "data": {
      "text/plain": [
       "['.ipynb_checkpoints',\n",
       " 'Download_Bases_TSE.ipynb',\n",
       " '2002.zip',\n",
       " '2004.zip',\n",
       " '1994.zip',\n",
       " '1996.zip',\n",
       " '1998.zip',\n",
       " '2000.zip',\n",
       " '2006.zip',\n",
       " '2008.zip',\n",
       " '2010.zip',\n",
       " '2012.zip',\n",
       " '2014.zip',\n",
       " '2016.zip']"
      ]
     },
     "execution_count": 20,
     "metadata": {},
     "output_type": "execute_result"
    }
   ],
   "source": [
    "os.listdir()"
   ]
  }
 ],
 "metadata": {
  "kernelspec": {
   "display_name": "TensorFlow-GPU",
   "language": "python",
   "name": "tf-gpu"
  },
  "language_info": {
   "codemirror_mode": {
    "name": "ipython",
    "version": 3
   },
   "file_extension": ".py",
   "mimetype": "text/x-python",
   "name": "python",
   "nbconvert_exporter": "python",
   "pygments_lexer": "ipython3",
   "version": "3.6.6"
  },
  "toc": {
   "base_numbering": 1,
   "nav_menu": {},
   "number_sections": true,
   "sideBar": true,
   "skip_h1_title": false,
   "title_cell": "Table of Contents",
   "title_sidebar": "Contents",
   "toc_cell": false,
   "toc_position": {},
   "toc_section_display": true,
   "toc_window_display": false
  },
  "varInspector": {
   "cols": {
    "lenName": 16,
    "lenType": 16,
    "lenVar": 40
   },
   "kernels_config": {
    "python": {
     "delete_cmd_postfix": "",
     "delete_cmd_prefix": "del ",
     "library": "var_list.py",
     "varRefreshCmd": "print(var_dic_list())"
    },
    "r": {
     "delete_cmd_postfix": ") ",
     "delete_cmd_prefix": "rm(",
     "library": "var_list.r",
     "varRefreshCmd": "cat(var_dic_list()) "
    }
   },
   "types_to_exclude": [
    "module",
    "function",
    "builtin_function_or_method",
    "instance",
    "_Feature"
   ],
   "window_display": false
  }
 },
 "nbformat": 4,
 "nbformat_minor": 2
}
