{
 "cells": [
  {
   "cell_type": "markdown",
   "metadata": {},
   "source": [
    "# Robô de download de dados"
   ]
  },
  {
   "cell_type": "markdown",
   "metadata": {},
   "source": [
    "TODO:\n",
    "\n",
    "    -[X] REPLICAR O PROCEDIMENTO ABAIXO PARA OS OUTROS REPOS (candidatos, prest_contas, resultados);\n",
    "    -[X] Estruturar os diretórios de saída dos arquivos\n",
    "    -[ ] Paralelizar?"
   ]
  },
  {
   "cell_type": "code",
   "execution_count": 1,
   "metadata": {
    "ExecuteTime": {
     "end_time": "2019-11-10T14:48:18.153385Z",
     "start_time": "2019-11-10T14:48:18.150862Z"
    }
   },
   "outputs": [],
   "source": [
    "import os\n",
    "import time\n",
    "import requests\n",
    "from tqdm import tqdm"
   ]
  },
  {
   "cell_type": "code",
   "execution_count": 2,
   "metadata": {
    "ExecuteTime": {
     "end_time": "2019-11-10T14:48:18.354826Z",
     "start_time": "2019-11-10T14:48:18.351477Z"
    }
   },
   "outputs": [],
   "source": [
    "bases_tse = [\n",
    "    ('resultados_anos', 'http://agencia.tse.jus.br/estatistica/sead/odsele/votacao_partido_munzona/votacao_partido_munzona_{}.zip'),\n",
    "    ('candidatos_anos', 'http://agencia.tse.jus.br/estatistica/sead/odsele/consulta_cand/consulta_cand_{}.zip'),\n",
    "    ('cand_legendas_anos', 'http://agencia.tse.jus.br/estatistica/sead/odsele/consulta_legendas/consulta_legendas_{}.zip'),\n",
    "    ('cand_vagas', 'http://agencia.tse.jus.br/estatistica/sead/odsele/consulta_vagas/consulta_vagas_{}.zip'),\n",
    "    ('perfil_eleitorado', 'http://agencia.tse.jus.br/estatistica/sead/odsele/perfil_eleitorado/perfil_eleitorado_{}.zip'),\n",
    "    ('prest_contas_polit', 'http://agencia.tse.jus.br/estatistica/sead/odsele/prestacao_contas_anual_partidaria/prestacao_contas_anual_partidaria_{}.zip')\n",
    "]"
   ]
  },
  {
   "cell_type": "markdown",
   "metadata": {},
   "source": [
    "Testando download da base de dados de perfil do eleitorado do TSE"
   ]
  },
  {
   "cell_type": "code",
   "execution_count": 10,
   "metadata": {
    "ExecuteTime": {
     "end_time": "2019-11-10T14:53:33.803882Z",
     "start_time": "2019-11-10T14:53:33.787595Z"
    }
   },
   "outputs": [],
   "source": [
    "def baixar_dados(db_link: tuple, lista_anos=list(range(1994,2020,2))):\n",
    "    \"\"\"\n",
    "    Método para recuperar dados do TSE baseado num link do repositório eleitoral\n",
    "    \n",
    "    Ele verifica se existem os referidos dados nos diretórios do projeto,\n",
    "    configurado pela variável OUTPATH. Caso existam, não a fazer, caso contrário,\n",
    "    baixa o arquivo em OUTPATH/<schema>, onde o schema é obtido na tupla em db_link.\n",
    "    \n",
    "    dblink: list<tuples> \n",
    "    lista_anos: list lista de anos para serem buscados nos diretórios do TSE.\n",
    "    \n",
    "    return bool True caso todo o fluxo tenha ocorrido, False, caso haja exceção não tratada.\n",
    "    \"\"\"\n",
    "    assert isinstance(lista_anos,list), 'Tipo inválido'\n",
    "    assert isinstance(db_link, tuple), 'Tipo inválido'\n",
    "    OUTPATH = os.path.join(os.getcwd(),'bases/')\n",
    "    \n",
    "    for ano in lista_anos:\n",
    "        print(f\"Buscando dados de {ano}\")\n",
    "        try:\n",
    "            perfil_eleitorado = db_link[1].format(ano)\n",
    "            resposta = requests.get(url=perfil_eleitorado, stream=True)\n",
    "            resposta.raise_for_status()\n",
    "        except requests.HTTPError as http_err:\n",
    "            print(f'HTTP error occurred: {http_err}')\n",
    "        except:\n",
    "            print(f'Other error occurred: {os.sys.exc_info()[0]}')\n",
    "        else:\n",
    "            print('Página Encontrada')\n",
    "            if resposta.headers['Content-Type'] == 'application/zip':\n",
    "                try:\n",
    "                    if not os.path.exists(os.path.join(OUTPATH,f'{db_link[0]}')):\n",
    "                        os.mkdir(os.path.join(OUTPATH, f'{db_link[0]}'))\n",
    "                except IOError as e1:\n",
    "                    print('ERRO de acesso: {e1.errno} , {e1.strerror}')\n",
    "                    return False\n",
    "                curpath = os.path.join(OUTPATH, f'{db_link[0]}')\n",
    "                \n",
    "                if not os.path.exists(os.path.join(curpath, f'{ano}.zip')):\n",
    "                    print(f\"Salvando Arquivo '{ano}.zip'\")\n",
    "                    total_size = int(resposta.headers.get('content-length', 0))\n",
    "                    block_size = 1024 #1 Kilobyte\n",
    "                    t=tqdm(total=total_size, unit='iB', unit_scale=True, )\n",
    "                    with open(os.path.join(curpath,f'{ano}.zip'),'wb') as file:\n",
    "                        for data in resposta.iter_content(block_size):\n",
    "                            t.update(len(data))\n",
    "                            file.write(data)\n",
    "                    t.close()\n",
    "                    if total_size != 0 and t.n != total_size:\n",
    "                        print(f\"ERRO, algo errado no download. Confira o arquivo {ano}.zip!\")\n",
    "                    else:\n",
    "                        print(f\"Pronto!\")\n",
    "                else:\n",
    "                    print('Arquivo já baixado!')\n",
    "        time.sleep(3.)\n",
    "    return True"
   ]
  },
  {
   "cell_type": "markdown",
   "metadata": {},
   "source": [
    "Base de Resultados"
   ]
  },
  {
   "cell_type": "code",
   "execution_count": 5,
   "metadata": {
    "ExecuteTime": {
     "end_time": "2019-11-10T14:56:22.780523Z",
     "start_time": "2019-11-10T14:53:57.410774Z"
    },
    "scrolled": true
   },
   "outputs": [
    {
     "name": "stdout",
     "output_type": "stream",
     "text": [
      "Buscando dados de 1994\n",
      "Página Encontrada\n",
      "Arquivo já baixado!\n",
      "Buscando dados de 1996\n",
      "Página Encontrada\n",
      "Arquivo já baixado!\n",
      "Buscando dados de 1998\n",
      "Página Encontrada\n",
      "Arquivo já baixado!\n",
      "Buscando dados de 2000\n",
      "Página Encontrada\n",
      "Arquivo já baixado!\n",
      "Buscando dados de 2002\n",
      "Página Encontrada\n",
      "Arquivo já baixado!\n",
      "Buscando dados de 2004\n",
      "Página Encontrada\n",
      "Arquivo já baixado!\n",
      "Buscando dados de 2006\n",
      "Página Encontrada\n",
      "Arquivo já baixado!\n",
      "Buscando dados de 2008\n",
      "Página Encontrada\n",
      "Arquivo já baixado!\n",
      "Buscando dados de 2010\n",
      "Página Encontrada\n",
      "Arquivo já baixado!\n",
      "Buscando dados de 2012\n",
      "Página Encontrada\n",
      "Arquivo já baixado!\n",
      "Buscando dados de 2014\n",
      "Página Encontrada\n",
      "Arquivo já baixado!\n",
      "Buscando dados de 2016\n",
      "Página Encontrada\n",
      "Arquivo já baixado!\n",
      "Buscando dados de 2018\n",
      "Página Encontrada\n",
      "Arquivo já baixado!\n"
     ]
    },
    {
     "data": {
      "text/plain": [
       "True"
      ]
     },
     "execution_count": 5,
     "metadata": {},
     "output_type": "execute_result"
    }
   ],
   "source": [
    "baixar_dados(bases_tse[0])"
   ]
  },
  {
   "cell_type": "markdown",
   "metadata": {},
   "source": [
    "Base de candidatos"
   ]
  },
  {
   "cell_type": "code",
   "execution_count": 29,
   "metadata": {
    "ExecuteTime": {
     "end_time": "2019-11-10T15:07:42.793271Z",
     "start_time": "2019-11-10T15:00:27.745490Z"
    },
    "scrolled": true
   },
   "outputs": [
    {
     "name": "stdout",
     "output_type": "stream",
     "text": [
      "Buscando dados de 1994\n"
     ]
    },
    {
     "name": "stderr",
     "output_type": "stream",
     "text": [
      " 11%|█▏        | 92.2k/813k [00:00<00:01, 695kiB/s]"
     ]
    },
    {
     "name": "stdout",
     "output_type": "stream",
     "text": [
      "Página Encontrada\n",
      "Salvando Arquivo '1994.zip'\n"
     ]
    },
    {
     "name": "stderr",
     "output_type": "stream",
     "text": [
      "100%|██████████| 813k/813k [00:01<00:00, 712kiB/s] \n"
     ]
    },
    {
     "name": "stdout",
     "output_type": "stream",
     "text": [
      "Pronto!\n",
      "Buscando dados de 1996\n"
     ]
    },
    {
     "name": "stderr",
     "output_type": "stream",
     "text": [
      " 10%|▉         | 92.2k/940k [00:00<00:01, 763kiB/s]"
     ]
    },
    {
     "name": "stdout",
     "output_type": "stream",
     "text": [
      "Página Encontrada\n",
      "Salvando Arquivo '1996.zip'\n"
     ]
    },
    {
     "name": "stderr",
     "output_type": "stream",
     "text": [
      "100%|██████████| 940k/940k [00:01<00:00, 787kiB/s] \n"
     ]
    },
    {
     "name": "stdout",
     "output_type": "stream",
     "text": [
      "Pronto!\n"
     ]
    },
    {
     "name": "stderr",
     "output_type": "stream",
     "text": [
      "\r",
      "  0%|          | 0.00/1.59M [00:00<?, ?iB/s]"
     ]
    },
    {
     "name": "stdout",
     "output_type": "stream",
     "text": [
      "Buscando dados de 1998\n",
      "Página Encontrada\n",
      "Salvando Arquivo '1998.zip'\n"
     ]
    },
    {
     "name": "stderr",
     "output_type": "stream",
     "text": [
      "100%|██████████| 1.59M/1.59M [00:02<00:00, 777kiB/s]\n"
     ]
    },
    {
     "name": "stdout",
     "output_type": "stream",
     "text": [
      "Pronto!\n",
      "Buscando dados de 2000\n"
     ]
    },
    {
     "name": "stderr",
     "output_type": "stream",
     "text": [
      "  0%|          | 92.2k/23.3M [00:00<00:28, 812kiB/s]"
     ]
    },
    {
     "name": "stdout",
     "output_type": "stream",
     "text": [
      "Página Encontrada\n",
      "Salvando Arquivo '2000.zip'\n"
     ]
    },
    {
     "name": "stderr",
     "output_type": "stream",
     "text": [
      "100%|██████████| 23.3M/23.3M [00:29<00:00, 795kiB/s]\n"
     ]
    },
    {
     "name": "stdout",
     "output_type": "stream",
     "text": [
      "Pronto!\n"
     ]
    },
    {
     "name": "stderr",
     "output_type": "stream",
     "text": [
      "\r",
      "  0%|          | 0.00/1.96M [00:00<?, ?iB/s]"
     ]
    },
    {
     "name": "stdout",
     "output_type": "stream",
     "text": [
      "Buscando dados de 2002\n",
      "Página Encontrada\n",
      "Salvando Arquivo '2002.zip'\n"
     ]
    },
    {
     "name": "stderr",
     "output_type": "stream",
     "text": [
      "100%|██████████| 1.96M/1.96M [00:04<00:00, 482kiB/s]\n"
     ]
    },
    {
     "name": "stdout",
     "output_type": "stream",
     "text": [
      "Pronto!\n",
      "Buscando dados de 2004\n"
     ]
    },
    {
     "name": "stderr",
     "output_type": "stream",
     "text": [
      "  0%|          | 59.4k/25.5M [00:00<00:46, 549kiB/s]"
     ]
    },
    {
     "name": "stdout",
     "output_type": "stream",
     "text": [
      "Página Encontrada\n",
      "Salvando Arquivo '2004.zip'\n"
     ]
    },
    {
     "name": "stderr",
     "output_type": "stream",
     "text": [
      "100%|██████████| 25.5M/25.5M [00:33<00:00, 771kiB/s]\n"
     ]
    },
    {
     "name": "stdout",
     "output_type": "stream",
     "text": [
      "Pronto!\n",
      "Buscando dados de 2006\n"
     ]
    },
    {
     "name": "stderr",
     "output_type": "stream",
     "text": [
      "  4%|▍         | 90.1k/2.05M [00:00<00:02, 770kiB/s]"
     ]
    },
    {
     "name": "stdout",
     "output_type": "stream",
     "text": [
      "Página Encontrada\n",
      "Salvando Arquivo '2006.zip'\n"
     ]
    },
    {
     "name": "stderr",
     "output_type": "stream",
     "text": [
      "100%|██████████| 2.05M/2.05M [00:02<00:00, 789kiB/s]\n"
     ]
    },
    {
     "name": "stdout",
     "output_type": "stream",
     "text": [
      "Pronto!\n"
     ]
    },
    {
     "name": "stderr",
     "output_type": "stream",
     "text": [
      "\r",
      "  0%|          | 0.00/24.8M [00:00<?, ?iB/s]"
     ]
    },
    {
     "name": "stdout",
     "output_type": "stream",
     "text": [
      "Buscando dados de 2008\n",
      "Página Encontrada\n",
      "Salvando Arquivo '2008.zip'\n"
     ]
    },
    {
     "name": "stderr",
     "output_type": "stream",
     "text": [
      "100%|██████████| 24.8M/24.8M [00:35<00:00, 696kiB/s]\n"
     ]
    },
    {
     "name": "stdout",
     "output_type": "stream",
     "text": [
      "Pronto!\n",
      "Buscando dados de 2010\n"
     ]
    },
    {
     "name": "stderr",
     "output_type": "stream",
     "text": [
      "  3%|▎         | 59.4k/2.22M [00:00<00:06, 346kiB/s]"
     ]
    },
    {
     "name": "stdout",
     "output_type": "stream",
     "text": [
      "Página Encontrada\n",
      "Salvando Arquivo '2010.zip'\n"
     ]
    },
    {
     "name": "stderr",
     "output_type": "stream",
     "text": [
      "100%|██████████| 2.22M/2.22M [00:04<00:00, 457kiB/s]\n"
     ]
    },
    {
     "name": "stdout",
     "output_type": "stream",
     "text": [
      "Pronto!\n",
      "Buscando dados de 2012\n"
     ]
    },
    {
     "name": "stderr",
     "output_type": "stream",
     "text": [
      "  0%|          | 60.4k/34.5M [00:00<01:28, 388kiB/s]"
     ]
    },
    {
     "name": "stdout",
     "output_type": "stream",
     "text": [
      "Página Encontrada\n",
      "Salvando Arquivo '2012.zip'\n"
     ]
    },
    {
     "name": "stderr",
     "output_type": "stream",
     "text": [
      "100%|██████████| 34.5M/34.5M [00:46<00:00, 744kiB/s]\n"
     ]
    },
    {
     "name": "stdout",
     "output_type": "stream",
     "text": [
      "Pronto!\n",
      "Buscando dados de 2014\n"
     ]
    },
    {
     "name": "stderr",
     "output_type": "stream",
     "text": [
      "  1%|          | 59.4k/5.58M [00:00<00:09, 590kiB/s]"
     ]
    },
    {
     "name": "stdout",
     "output_type": "stream",
     "text": [
      "Página Encontrada\n",
      "Salvando Arquivo '2014.zip'\n"
     ]
    },
    {
     "name": "stderr",
     "output_type": "stream",
     "text": [
      "100%|██████████| 5.58M/5.58M [00:09<00:00, 589kiB/s]\n"
     ]
    },
    {
     "name": "stdout",
     "output_type": "stream",
     "text": [
      "Pronto!\n"
     ]
    },
    {
     "name": "stderr",
     "output_type": "stream",
     "text": [
      "\r",
      "  0%|          | 0.00/130M [00:00<?, ?iB/s]"
     ]
    },
    {
     "name": "stdout",
     "output_type": "stream",
     "text": [
      "Buscando dados de 2016\n",
      "Página Encontrada\n",
      "Salvando Arquivo '2016.zip'\n"
     ]
    },
    {
     "name": "stderr",
     "output_type": "stream",
     "text": [
      "100%|██████████| 130M/130M [03:30<00:00, 619kiB/s] \n"
     ]
    },
    {
     "name": "stdout",
     "output_type": "stream",
     "text": [
      "Pronto!\n",
      "Buscando dados de 2018\n"
     ]
    },
    {
     "name": "stderr",
     "output_type": "stream",
     "text": [
      "  1%|▏         | 81.9k/6.10M [00:00<00:07, 812kiB/s]"
     ]
    },
    {
     "name": "stdout",
     "output_type": "stream",
     "text": [
      "Página Encontrada\n",
      "Salvando Arquivo '2018.zip'\n"
     ]
    },
    {
     "name": "stderr",
     "output_type": "stream",
     "text": [
      "100%|██████████| 6.10M/6.10M [00:11<00:00, 516kiB/s]\n"
     ]
    },
    {
     "name": "stdout",
     "output_type": "stream",
     "text": [
      "Pronto!\n"
     ]
    },
    {
     "data": {
      "text/plain": [
       "True"
      ]
     },
     "execution_count": 29,
     "metadata": {},
     "output_type": "execute_result"
    }
   ],
   "source": [
    "baixar_dados(bases_tse[1])"
   ]
  },
  {
   "cell_type": "code",
   "execution_count": 9,
   "metadata": {},
   "outputs": [
    {
     "name": "stdout",
     "output_type": "stream",
     "text": [
      "Buscando dados de 1994\n"
     ]
    },
    {
     "name": "stderr",
     "output_type": "stream",
     "text": [
      "  5%|▌         | 24.6k/470k [00:00<00:02, 216kiB/s]"
     ]
    },
    {
     "name": "stdout",
     "output_type": "stream",
     "text": [
      "Página Encontrada\n",
      "Salvando Arquivo '1994.zip'\n"
     ]
    },
    {
     "name": "stderr",
     "output_type": "stream",
     "text": [
      "100%|██████████| 470k/470k [00:00<00:00, 687kiB/s] \n"
     ]
    },
    {
     "name": "stdout",
     "output_type": "stream",
     "text": [
      "Pronto!\n"
     ]
    },
    {
     "name": "stderr",
     "output_type": "stream",
     "text": [
      "\r",
      "  0%|          | 0.00/474k [00:00<?, ?iB/s]"
     ]
    },
    {
     "name": "stdout",
     "output_type": "stream",
     "text": [
      "Buscando dados de 1996\n",
      "Página Encontrada\n",
      "Salvando Arquivo '1996.zip'\n"
     ]
    },
    {
     "name": "stderr",
     "output_type": "stream",
     "text": [
      "100%|██████████| 474k/474k [00:00<00:00, 818kiB/s] \n"
     ]
    },
    {
     "name": "stdout",
     "output_type": "stream",
     "text": [
      "Pronto!\n"
     ]
    },
    {
     "name": "stderr",
     "output_type": "stream",
     "text": [
      "\r",
      "  0%|          | 0.00/473k [00:00<?, ?iB/s]"
     ]
    },
    {
     "name": "stdout",
     "output_type": "stream",
     "text": [
      "Buscando dados de 1998\n",
      "Página Encontrada\n",
      "Salvando Arquivo '1998.zip'\n"
     ]
    },
    {
     "name": "stderr",
     "output_type": "stream",
     "text": [
      "100%|██████████| 473k/473k [00:00<00:00, 867kiB/s] \n"
     ]
    },
    {
     "name": "stdout",
     "output_type": "stream",
     "text": [
      "Pronto!\n"
     ]
    },
    {
     "name": "stderr",
     "output_type": "stream",
     "text": [
      "\r",
      "  0%|          | 0.00/554k [00:00<?, ?iB/s]"
     ]
    },
    {
     "name": "stdout",
     "output_type": "stream",
     "text": [
      "Buscando dados de 2000\n",
      "Página Encontrada\n",
      "Salvando Arquivo '2000.zip'\n"
     ]
    },
    {
     "name": "stderr",
     "output_type": "stream",
     "text": [
      "100%|██████████| 554k/554k [00:00<00:00, 880kiB/s] \n"
     ]
    },
    {
     "name": "stdout",
     "output_type": "stream",
     "text": [
      "Pronto!\n"
     ]
    },
    {
     "name": "stderr",
     "output_type": "stream",
     "text": [
      "\r",
      "  0%|          | 0.00/474k [00:00<?, ?iB/s]"
     ]
    },
    {
     "name": "stdout",
     "output_type": "stream",
     "text": [
      "Buscando dados de 2002\n",
      "Página Encontrada\n",
      "Salvando Arquivo '2002.zip'\n"
     ]
    },
    {
     "name": "stderr",
     "output_type": "stream",
     "text": [
      "100%|██████████| 474k/474k [00:00<00:00, 869kiB/s] \n"
     ]
    },
    {
     "name": "stdout",
     "output_type": "stream",
     "text": [
      "Pronto!\n"
     ]
    },
    {
     "name": "stderr",
     "output_type": "stream",
     "text": [
      "\r",
      "  0%|          | 0.00/553k [00:00<?, ?iB/s]"
     ]
    },
    {
     "name": "stdout",
     "output_type": "stream",
     "text": [
      "Buscando dados de 2004\n",
      "Página Encontrada\n",
      "Salvando Arquivo '2004.zip'\n"
     ]
    },
    {
     "name": "stderr",
     "output_type": "stream",
     "text": [
      "100%|██████████| 553k/553k [00:00<00:00, 773kiB/s] \n"
     ]
    },
    {
     "name": "stdout",
     "output_type": "stream",
     "text": [
      "Pronto!\n"
     ]
    },
    {
     "name": "stderr",
     "output_type": "stream",
     "text": [
      "\r",
      "  0%|          | 0.00/474k [00:00<?, ?iB/s]"
     ]
    },
    {
     "name": "stdout",
     "output_type": "stream",
     "text": [
      "Buscando dados de 2006\n",
      "Página Encontrada\n",
      "Salvando Arquivo '2006.zip'\n"
     ]
    },
    {
     "name": "stderr",
     "output_type": "stream",
     "text": [
      "100%|██████████| 474k/474k [00:00<00:00, 795kiB/s] \n"
     ]
    },
    {
     "name": "stdout",
     "output_type": "stream",
     "text": [
      "Pronto!\n"
     ]
    },
    {
     "name": "stderr",
     "output_type": "stream",
     "text": [
      "\r",
      "  0%|          | 0.00/556k [00:00<?, ?iB/s]"
     ]
    },
    {
     "name": "stdout",
     "output_type": "stream",
     "text": [
      "Buscando dados de 2008\n",
      "Página Encontrada\n",
      "Salvando Arquivo '2008.zip'\n"
     ]
    },
    {
     "name": "stderr",
     "output_type": "stream",
     "text": [
      "100%|██████████| 556k/556k [00:00<00:00, 822kiB/s] \n"
     ]
    },
    {
     "name": "stdout",
     "output_type": "stream",
     "text": [
      "Pronto!\n"
     ]
    },
    {
     "name": "stderr",
     "output_type": "stream",
     "text": [
      "\r",
      "  0%|          | 0.00/474k [00:00<?, ?iB/s]"
     ]
    },
    {
     "name": "stdout",
     "output_type": "stream",
     "text": [
      "Buscando dados de 2010\n",
      "Página Encontrada\n",
      "Salvando Arquivo '2010.zip'\n"
     ]
    },
    {
     "name": "stderr",
     "output_type": "stream",
     "text": [
      "100%|██████████| 474k/474k [00:00<00:00, 753kiB/s] \n"
     ]
    },
    {
     "name": "stdout",
     "output_type": "stream",
     "text": [
      "Pronto!\n"
     ]
    },
    {
     "name": "stderr",
     "output_type": "stream",
     "text": [
      "\r",
      "  0%|          | 0.00/799k [00:00<?, ?iB/s]"
     ]
    },
    {
     "name": "stdout",
     "output_type": "stream",
     "text": [
      "Buscando dados de 2012\n",
      "Página Encontrada\n",
      "Salvando Arquivo '2012.zip'\n"
     ]
    },
    {
     "name": "stderr",
     "output_type": "stream",
     "text": [
      "100%|██████████| 799k/799k [00:01<00:00, 792kiB/s] \n"
     ]
    },
    {
     "name": "stdout",
     "output_type": "stream",
     "text": [
      "Pronto!\n"
     ]
    },
    {
     "name": "stderr",
     "output_type": "stream",
     "text": [
      "\r",
      "  0%|          | 0.00/66.1k [00:00<?, ?iB/s]"
     ]
    },
    {
     "name": "stdout",
     "output_type": "stream",
     "text": [
      "Buscando dados de 2014\n",
      "Página Encontrada\n",
      "Salvando Arquivo '2014.zip'\n"
     ]
    },
    {
     "name": "stderr",
     "output_type": "stream",
     "text": [
      "100%|██████████| 66.1k/66.1k [00:00<00:00, 777kiB/s]\n"
     ]
    },
    {
     "name": "stdout",
     "output_type": "stream",
     "text": [
      "Pronto!\n"
     ]
    },
    {
     "name": "stderr",
     "output_type": "stream",
     "text": [
      "\r",
      "  0%|          | 0.00/350k [00:00<?, ?iB/s]"
     ]
    },
    {
     "name": "stdout",
     "output_type": "stream",
     "text": [
      "Buscando dados de 2016\n",
      "Página Encontrada\n",
      "Salvando Arquivo '2016.zip'\n"
     ]
    },
    {
     "name": "stderr",
     "output_type": "stream",
     "text": [
      "100%|██████████| 350k/350k [00:00<00:00, 892kiB/s] \n"
     ]
    },
    {
     "name": "stdout",
     "output_type": "stream",
     "text": [
      "Pronto!\n"
     ]
    },
    {
     "name": "stderr",
     "output_type": "stream",
     "text": [
      "\r",
      "  0%|          | 0.00/65.0k [00:00<?, ?iB/s]"
     ]
    },
    {
     "name": "stdout",
     "output_type": "stream",
     "text": [
      "Buscando dados de 2018\n",
      "Página Encontrada\n",
      "Salvando Arquivo '2018.zip'\n"
     ]
    },
    {
     "name": "stderr",
     "output_type": "stream",
     "text": [
      "100%|██████████| 65.0k/65.0k [00:00<00:00, 745kiB/s]\n"
     ]
    },
    {
     "name": "stdout",
     "output_type": "stream",
     "text": [
      "Pronto!\n"
     ]
    },
    {
     "data": {
      "text/plain": [
       "True"
      ]
     },
     "execution_count": 9,
     "metadata": {},
     "output_type": "execute_result"
    }
   ],
   "source": [
    "baixar_dados(bases_tse[3])"
   ]
  },
  {
   "cell_type": "code",
   "execution_count": 11,
   "metadata": {},
   "outputs": [
    {
     "name": "stdout",
     "output_type": "stream",
     "text": [
      "Buscando dados de 1994\n"
     ]
    },
    {
     "name": "stderr",
     "output_type": "stream",
     "text": [
      " 19%|█▉        | 96.3k/502k [00:00<00:00, 875kiB/s]"
     ]
    },
    {
     "name": "stdout",
     "output_type": "stream",
     "text": [
      "Página Encontrada\n",
      "Salvando Arquivo '1994.zip'\n"
     ]
    },
    {
     "name": "stderr",
     "output_type": "stream",
     "text": [
      "100%|██████████| 502k/502k [00:00<00:00, 867kiB/s] \n"
     ]
    },
    {
     "name": "stdout",
     "output_type": "stream",
     "text": [
      "Pronto!\n"
     ]
    },
    {
     "name": "stderr",
     "output_type": "stream",
     "text": [
      "\r",
      "  0%|          | 0.00/494k [00:00<?, ?iB/s]"
     ]
    },
    {
     "name": "stdout",
     "output_type": "stream",
     "text": [
      "Buscando dados de 1996\n",
      "Página Encontrada\n",
      "Salvando Arquivo '1996.zip'\n"
     ]
    },
    {
     "name": "stderr",
     "output_type": "stream",
     "text": [
      "100%|██████████| 494k/494k [00:00<00:00, 862kiB/s] \n"
     ]
    },
    {
     "name": "stdout",
     "output_type": "stream",
     "text": [
      "Pronto!\n"
     ]
    },
    {
     "name": "stderr",
     "output_type": "stream",
     "text": [
      "\r",
      "  0%|          | 0.00/500k [00:00<?, ?iB/s]"
     ]
    },
    {
     "name": "stdout",
     "output_type": "stream",
     "text": [
      "Buscando dados de 1998\n",
      "Página Encontrada\n",
      "Salvando Arquivo '1998.zip'\n"
     ]
    },
    {
     "name": "stderr",
     "output_type": "stream",
     "text": [
      "100%|██████████| 500k/500k [00:00<00:00, 826kiB/s] \n"
     ]
    },
    {
     "name": "stdout",
     "output_type": "stream",
     "text": [
      "Pronto!\n"
     ]
    },
    {
     "name": "stderr",
     "output_type": "stream",
     "text": [
      "\r",
      "  0%|          | 0.00/618k [00:00<?, ?iB/s]"
     ]
    },
    {
     "name": "stdout",
     "output_type": "stream",
     "text": [
      "Buscando dados de 2000\n",
      "Página Encontrada\n",
      "Salvando Arquivo '2000.zip'\n"
     ]
    },
    {
     "name": "stderr",
     "output_type": "stream",
     "text": [
      "100%|██████████| 618k/618k [00:00<00:00, 816kiB/s] \n"
     ]
    },
    {
     "name": "stdout",
     "output_type": "stream",
     "text": [
      "Pronto!\n"
     ]
    },
    {
     "name": "stderr",
     "output_type": "stream",
     "text": [
      "\r",
      "  0%|          | 0.00/515k [00:00<?, ?iB/s]"
     ]
    },
    {
     "name": "stdout",
     "output_type": "stream",
     "text": [
      "Buscando dados de 2002\n",
      "Página Encontrada\n",
      "Salvando Arquivo '2002.zip'\n"
     ]
    },
    {
     "name": "stderr",
     "output_type": "stream",
     "text": [
      "100%|██████████| 515k/515k [00:00<00:00, 737kiB/s] \n"
     ]
    },
    {
     "name": "stdout",
     "output_type": "stream",
     "text": [
      "Pronto!\n"
     ]
    },
    {
     "name": "stderr",
     "output_type": "stream",
     "text": [
      "\r",
      "  0%|          | 0.00/1.89M [00:00<?, ?iB/s]"
     ]
    },
    {
     "name": "stdout",
     "output_type": "stream",
     "text": [
      "Buscando dados de 2004\n",
      "Página Encontrada\n",
      "Salvando Arquivo '2004.zip'\n"
     ]
    },
    {
     "name": "stderr",
     "output_type": "stream",
     "text": [
      "100%|██████████| 1.89M/1.89M [00:02<00:00, 762kiB/s]\n"
     ]
    },
    {
     "name": "stdout",
     "output_type": "stream",
     "text": [
      "Pronto!\n"
     ]
    },
    {
     "name": "stderr",
     "output_type": "stream",
     "text": [
      "\r",
      "  0%|          | 0.00/513k [00:00<?, ?iB/s]"
     ]
    },
    {
     "name": "stdout",
     "output_type": "stream",
     "text": [
      "Buscando dados de 2006\n",
      "Página Encontrada\n",
      "Salvando Arquivo '2006.zip'\n"
     ]
    },
    {
     "name": "stderr",
     "output_type": "stream",
     "text": [
      "100%|██████████| 513k/513k [00:00<00:00, 880kiB/s] \n"
     ]
    },
    {
     "name": "stdout",
     "output_type": "stream",
     "text": [
      "Pronto!\n"
     ]
    },
    {
     "name": "stderr",
     "output_type": "stream",
     "text": [
      "\r",
      "  0%|          | 0.00/2.31M [00:00<?, ?iB/s]"
     ]
    },
    {
     "name": "stdout",
     "output_type": "stream",
     "text": [
      "Buscando dados de 2008\n",
      "Página Encontrada\n",
      "Salvando Arquivo '2008.zip'\n"
     ]
    },
    {
     "name": "stderr",
     "output_type": "stream",
     "text": [
      "100%|██████████| 2.31M/2.31M [00:02<00:00, 791kiB/s]\n"
     ]
    },
    {
     "name": "stdout",
     "output_type": "stream",
     "text": [
      "Pronto!\n"
     ]
    },
    {
     "name": "stderr",
     "output_type": "stream",
     "text": [
      "\r",
      "  0%|          | 0.00/518k [00:00<?, ?iB/s]"
     ]
    },
    {
     "name": "stdout",
     "output_type": "stream",
     "text": [
      "Buscando dados de 2010\n",
      "Página Encontrada\n",
      "Salvando Arquivo '2010.zip'\n"
     ]
    },
    {
     "name": "stderr",
     "output_type": "stream",
     "text": [
      "100%|██████████| 518k/518k [00:00<00:00, 786kiB/s] \n"
     ]
    },
    {
     "name": "stdout",
     "output_type": "stream",
     "text": [
      "Pronto!\n"
     ]
    },
    {
     "name": "stderr",
     "output_type": "stream",
     "text": [
      "\r",
      "  0%|          | 0.00/3.97M [00:00<?, ?iB/s]"
     ]
    },
    {
     "name": "stdout",
     "output_type": "stream",
     "text": [
      "Buscando dados de 2012\n",
      "Página Encontrada\n",
      "Salvando Arquivo '2012.zip'\n"
     ]
    },
    {
     "name": "stderr",
     "output_type": "stream",
     "text": [
      "100%|██████████| 3.97M/3.97M [00:05<00:00, 752kiB/s]\n"
     ]
    },
    {
     "name": "stdout",
     "output_type": "stream",
     "text": [
      "Pronto!\n",
      "Buscando dados de 2014\n"
     ]
    },
    {
     "name": "stderr",
     "output_type": "stream",
     "text": [
      " 10%|█         | 64.5k/624k [00:00<00:01, 408kiB/s]"
     ]
    },
    {
     "name": "stdout",
     "output_type": "stream",
     "text": [
      "Página Encontrada\n",
      "Salvando Arquivo '2014.zip'\n"
     ]
    },
    {
     "name": "stderr",
     "output_type": "stream",
     "text": [
      "100%|██████████| 624k/624k [00:01<00:00, 562kiB/s] \n"
     ]
    },
    {
     "name": "stdout",
     "output_type": "stream",
     "text": [
      "Pronto!\n"
     ]
    },
    {
     "name": "stderr",
     "output_type": "stream",
     "text": [
      "\r",
      "  0%|          | 0.00/5.77M [00:00<?, ?iB/s]"
     ]
    },
    {
     "name": "stdout",
     "output_type": "stream",
     "text": [
      "Buscando dados de 2016\n",
      "Página Encontrada\n",
      "Salvando Arquivo '2016.zip'\n"
     ]
    },
    {
     "name": "stderr",
     "output_type": "stream",
     "text": [
      "100%|██████████| 5.77M/5.77M [00:07<00:00, 800kiB/s]\n"
     ]
    },
    {
     "name": "stdout",
     "output_type": "stream",
     "text": [
      "Pronto!\n",
      "Buscando dados de 2018\n",
      "HTTP error occurred: 404 Client Error: Not Found for url: http://agencia.tse.jus.br/estatistica/sead/odsele/consulta_legendas/consulta_legendas_2018.zip\n"
     ]
    },
    {
     "data": {
      "text/plain": [
       "True"
      ]
     },
     "execution_count": 11,
     "metadata": {},
     "output_type": "execute_result"
    }
   ],
   "source": [
    "baixar_dados(bases_tse[2])"
   ]
  },
  {
   "cell_type": "code",
   "execution_count": 12,
   "metadata": {},
   "outputs": [
    {
     "name": "stdout",
     "output_type": "stream",
     "text": [
      "Buscando dados de 1994\n",
      "HTTP error occurred: 404 Client Error: Not Found for url: http://agencia.tse.jus.br/estatistica/sead/odsele/prestacao_contas_anual_partidaria/prestacao_contas_anual_partidaria_1994.zip\n",
      "Buscando dados de 1996\n",
      "HTTP error occurred: 404 Client Error: Not Found for url: http://agencia.tse.jus.br/estatistica/sead/odsele/prestacao_contas_anual_partidaria/prestacao_contas_anual_partidaria_1996.zip\n",
      "Buscando dados de 1998\n",
      "HTTP error occurred: 404 Client Error: Not Found for url: http://agencia.tse.jus.br/estatistica/sead/odsele/prestacao_contas_anual_partidaria/prestacao_contas_anual_partidaria_1998.zip\n",
      "Buscando dados de 2000\n",
      "HTTP error occurred: 404 Client Error: Not Found for url: http://agencia.tse.jus.br/estatistica/sead/odsele/prestacao_contas_anual_partidaria/prestacao_contas_anual_partidaria_2000.zip\n",
      "Buscando dados de 2002\n",
      "HTTP error occurred: 404 Client Error: Not Found for url: http://agencia.tse.jus.br/estatistica/sead/odsele/prestacao_contas_anual_partidaria/prestacao_contas_anual_partidaria_2002.zip\n",
      "Buscando dados de 2004\n",
      "HTTP error occurred: 404 Client Error: Not Found for url: http://agencia.tse.jus.br/estatistica/sead/odsele/prestacao_contas_anual_partidaria/prestacao_contas_anual_partidaria_2004.zip\n",
      "Buscando dados de 2006\n",
      "HTTP error occurred: 404 Client Error: Not Found for url: http://agencia.tse.jus.br/estatistica/sead/odsele/prestacao_contas_anual_partidaria/prestacao_contas_anual_partidaria_2006.zip\n",
      "Buscando dados de 2008\n",
      "HTTP error occurred: 404 Client Error: Not Found for url: http://agencia.tse.jus.br/estatistica/sead/odsele/prestacao_contas_anual_partidaria/prestacao_contas_anual_partidaria_2008.zip\n",
      "Buscando dados de 2010\n",
      "HTTP error occurred: 404 Client Error: Not Found for url: http://agencia.tse.jus.br/estatistica/sead/odsele/prestacao_contas_anual_partidaria/prestacao_contas_anual_partidaria_2010.zip\n",
      "Buscando dados de 2012\n",
      "HTTP error occurred: 404 Client Error: Not Found for url: http://agencia.tse.jus.br/estatistica/sead/odsele/prestacao_contas_anual_partidaria/prestacao_contas_anual_partidaria_2012.zip\n",
      "Buscando dados de 2014\n",
      "HTTP error occurred: 404 Client Error: Not Found for url: http://agencia.tse.jus.br/estatistica/sead/odsele/prestacao_contas_anual_partidaria/prestacao_contas_anual_partidaria_2014.zip\n",
      "Buscando dados de 2016\n",
      "HTTP error occurred: 404 Client Error: Not Found for url: http://agencia.tse.jus.br/estatistica/sead/odsele/prestacao_contas_anual_partidaria/prestacao_contas_anual_partidaria_2016.zip\n"
     ]
    },
    {
     "name": "stderr",
     "output_type": "stream",
     "text": [
      "\r",
      "  0%|          | 0.00/41.8M [00:00<?, ?iB/s]"
     ]
    },
    {
     "name": "stdout",
     "output_type": "stream",
     "text": [
      "Buscando dados de 2018\n",
      "Página Encontrada\n",
      "Salvando Arquivo '2018.zip'\n"
     ]
    },
    {
     "name": "stderr",
     "output_type": "stream",
     "text": [
      "100%|██████████| 41.8M/41.8M [00:55<00:00, 754kiB/s]\n"
     ]
    },
    {
     "name": "stdout",
     "output_type": "stream",
     "text": [
      "Pronto!\n"
     ]
    },
    {
     "data": {
      "text/plain": [
       "True"
      ]
     },
     "execution_count": 12,
     "metadata": {},
     "output_type": "execute_result"
    }
   ],
   "source": [
    "baixar_dados(bases_tse[5])"
   ]
  }
 ],
 "metadata": {
  "kernelspec": {
   "display_name": "Python 3",
   "language": "python",
   "name": "python3"
  },
  "language_info": {
   "codemirror_mode": {
    "name": "ipython",
    "version": 3
   },
   "file_extension": ".py",
   "mimetype": "text/x-python",
   "name": "python",
   "nbconvert_exporter": "python",
   "pygments_lexer": "ipython3",
   "version": "3.8.1"
  },
  "toc": {
   "base_numbering": 1,
   "nav_menu": {},
   "number_sections": true,
   "sideBar": true,
   "skip_h1_title": false,
   "title_cell": "Table of Contents",
   "title_sidebar": "Contents",
   "toc_cell": false,
   "toc_position": {},
   "toc_section_display": true,
   "toc_window_display": false
  },
  "varInspector": {
   "cols": {
    "lenName": 16,
    "lenType": 16,
    "lenVar": 40
   },
   "kernels_config": {
    "python": {
     "delete_cmd_postfix": "",
     "delete_cmd_prefix": "del ",
     "library": "var_list.py",
     "varRefreshCmd": "print(var_dic_list())"
    },
    "r": {
     "delete_cmd_postfix": ") ",
     "delete_cmd_prefix": "rm(",
     "library": "var_list.r",
     "varRefreshCmd": "cat(var_dic_list()) "
    }
   },
   "types_to_exclude": [
    "module",
    "function",
    "builtin_function_or_method",
    "instance",
    "_Feature"
   ],
   "window_display": false
  }
 },
 "nbformat": 4,
 "nbformat_minor": 2
}
