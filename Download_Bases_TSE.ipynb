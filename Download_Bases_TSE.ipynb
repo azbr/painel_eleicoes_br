{
 "cells": [
  {
   "cell_type": "markdown",
   "metadata": {},
   "source": [
    "TODO:\n",
    "\n",
    "    -[X] REPLICAR O PROCEDIMENTO ABAIXO PARA OS OUTROS REPOS (candidatos, prest_contas, resultados);\n",
    "    -[X] Estruturar os diretórios de saída dos arquivos\n",
    "    -[ ] Paralelizar?"
   ]
  },
  {
   "cell_type": "code",
   "execution_count": 16,
   "metadata": {
    "ExecuteTime": {
     "end_time": "2019-11-10T14:48:18.153385Z",
     "start_time": "2019-11-10T14:48:18.150862Z"
    }
   },
   "outputs": [],
   "source": [
    "import os\n",
    "import time\n",
    "import requests\n",
    "from tqdm import tqdm\n"
   ]
  },
  {
   "cell_type": "code",
   "execution_count": 17,
   "metadata": {
    "ExecuteTime": {
     "end_time": "2019-11-10T14:48:18.354826Z",
     "start_time": "2019-11-10T14:48:18.351477Z"
    }
   },
   "outputs": [],
   "source": [
    "bases_tse = [\n",
    "    ('resultados_anos', 'http://agencia.tse.jus.br/estatistica/sead/odsele/votacao_partido_munzona/votacao_partido_munzona_{}.zip'),\n",
    "    ('candidatos_anos', 'http://agencia.tse.jus.br/estatistica/sead/odsele/consulta_cand/consulta_cand_{}.zip'),\n",
    "    ('cand_legendas_anos', 'http://agencia.tse.jus.br/estatistica/sead/odsele/consulta_legendas/consulta_legendas_{}.zip'),\n",
    "    ('cand_vagas', 'http://agencia.tse.jus.br/estatistica/sead/odsele/consulta_vagas/consulta_vagas_{}.zip'),\n",
    "    ('perfil_eleitorado', 'http://agencia.tse.jus.br/estatistica/sead/odsele/perfil_eleitorado/perfil_eleitorado_{}.zip'),\n",
    "    ('prest_contas_polit', 'http://agencia.tse.jus.br/estatistica/sead/odsele/prestacao_contas_anual_partidaria/prestacao_contas_anual_partidaria_{}.zip')\n",
    "]"
   ]
  },
  {
   "cell_type": "markdown",
   "metadata": {},
   "source": [
    "Testando download da base de dados de perfil do eleitorado do TSE"
   ]
  },
  {
   "cell_type": "code",
   "execution_count": 18,
   "metadata": {
    "ExecuteTime": {
     "end_time": "2019-11-10T14:48:18.820135Z",
     "start_time": "2019-11-10T14:48:18.817090Z"
    }
   },
   "outputs": [],
   "source": [
    "OUTPATH = os.path.join(os.getcwd(),'bases/')"
   ]
  },
  {
   "cell_type": "code",
   "execution_count": 20,
   "metadata": {
    "ExecuteTime": {
     "end_time": "2019-11-10T14:53:33.803882Z",
     "start_time": "2019-11-10T14:53:33.787595Z"
    }
   },
   "outputs": [],
   "source": [
    "def baixar_dados(db_link:list, lista_anos=list(range(1994,2020,2))):\n",
    "    \"\"\"\n",
    "    Método para recuperar dados do TSE baseado num link do repositório eleitoral\n",
    "    dblink:list<tuples>\n",
    "    \n",
    "    \"\"\"\n",
    "    assert isinstance(lista_anos,list), 'Tipo inválido'\n",
    "        \n",
    "    for ano in lista_anos:\n",
    "        print(f\"Buscando dados de {ano}\")\n",
    "        try:\n",
    "            perfil_eleitorado = db_link[1].format(ano)\n",
    "            resposta = requests.get(url=perfil_eleitorado, stream=True)\n",
    "            resposta.raise_for_status()\n",
    "        except requests.HTTPError as http_err:\n",
    "            print(f'HTTP error occurred: {http_err}')\n",
    "        except:\n",
    "            print(f'Other error occurred: {os.sys.exc_info()[0]}')\n",
    "        else:\n",
    "            print('Página Encontrada')\n",
    "            if resposta.headers['Content-Type'] == 'application/zip':\n",
    "                try:\n",
    "                    if not os.path.exists(os.path.join(OUTPATH,f'{db_link[0]}')):\n",
    "                        os.mkdir(os.path.join(OUTPATH, f'{db_link[0]}'))\n",
    "                except IOError as e1:\n",
    "                    print('ERRO de acesso: {e1.errno} , {e1.strerror}')\n",
    "                    return False\n",
    "                curpath = os.path.join(OUTPATH, f'{db_link[0]}')\n",
    "                \n",
    "                if not os.path.exists(os.path.join(curpath, f'{ano}.zip')):\n",
    "                    print(f\"Salvando Arquivo '{ano}.zip'\")\n",
    "                    total_size = int(resposta.headers.get('content-length', 0))\n",
    "                    block_size = 1024 #1 Kilobyte\n",
    "                    t=tqdm(total=total_size, unit='iB', unit_scale=True)\n",
    "                    with open(os.path.join(curpath,f'{ano}.zip'),'wb') as file:\n",
    "                        for data in resposta.iter_content(block_size):\n",
    "                            t.update(len(data))\n",
    "                            file.write(data)\n",
    "                    t.close()\n",
    "                    if total_size != 0 and t.n != total_size:\n",
    "                        print(f\"ERRO, algo errado no download. Confira o arquivo {ano}.zip!\")\n",
    "                    else:\n",
    "                        print(f\"Pronto!\")\n",
    "                else:\n",
    "                    print('Arquivo já baixado!')\n",
    "        time.sleep(3.)\n",
    "    return True"
   ]
  },
  {
   "cell_type": "markdown",
   "metadata": {},
   "source": [
    "Base de Resultados"
   ]
  },
  {
   "cell_type": "code",
   "execution_count": 21,
   "metadata": {
    "ExecuteTime": {
     "end_time": "2019-11-10T14:56:22.780523Z",
     "start_time": "2019-11-10T14:53:57.410774Z"
    }
   },
   "outputs": [
    {
     "name": "stdout",
     "output_type": "stream",
     "text": [
      "Buscando dados de 1994\n"
     ]
    },
    {
     "name": "stderr",
     "output_type": "stream",
     "text": [
      "  1%|▏         | 24.6k/1.83M [00:00<00:07, 227kiB/s]"
     ]
    },
    {
     "name": "stdout",
     "output_type": "stream",
     "text": [
      "Página Encontrada\n",
      "Salvando Arquivo '1994.zip'\n"
     ]
    },
    {
     "name": "stderr",
     "output_type": "stream",
     "text": [
      "100%|██████████| 1.83M/1.83M [00:02<00:00, 815kiB/s]\n"
     ]
    },
    {
     "name": "stdout",
     "output_type": "stream",
     "text": [
      "Pronto!\n"
     ]
    },
    {
     "name": "stderr",
     "output_type": "stream",
     "text": [
      "\r",
      "  0%|          | 0.00/643k [00:00<?, ?iB/s]"
     ]
    },
    {
     "name": "stdout",
     "output_type": "stream",
     "text": [
      "Buscando dados de 1996\n",
      "Página Encontrada\n",
      "Salvando Arquivo '1996.zip'\n"
     ]
    },
    {
     "name": "stderr",
     "output_type": "stream",
     "text": [
      "100%|██████████| 643k/643k [00:00<00:00, 805kiB/s] \n"
     ]
    },
    {
     "name": "stdout",
     "output_type": "stream",
     "text": [
      "Pronto!\n"
     ]
    },
    {
     "name": "stderr",
     "output_type": "stream",
     "text": [
      "\r",
      "  0%|          | 0.00/3.76M [00:00<?, ?iB/s]"
     ]
    },
    {
     "name": "stdout",
     "output_type": "stream",
     "text": [
      "Buscando dados de 1998\n",
      "Página Encontrada\n",
      "Salvando Arquivo '1998.zip'\n"
     ]
    },
    {
     "name": "stderr",
     "output_type": "stream",
     "text": [
      "100%|██████████| 3.76M/3.76M [00:04<00:00, 839kiB/s]\n"
     ]
    },
    {
     "name": "stdout",
     "output_type": "stream",
     "text": [
      "Pronto!\n",
      "Buscando dados de 2000\n",
      "Página Encontrada\n"
     ]
    },
    {
     "name": "stderr",
     "output_type": "stream",
     "text": [
      "  3%|▎         | 59.4k/1.81M [00:00<00:04, 383kiB/s]"
     ]
    },
    {
     "name": "stdout",
     "output_type": "stream",
     "text": [
      "Salvando Arquivo '2000.zip'\n"
     ]
    },
    {
     "name": "stderr",
     "output_type": "stream",
     "text": [
      "100%|██████████| 1.81M/1.81M [00:02<00:00, 766kiB/s]\n"
     ]
    },
    {
     "name": "stdout",
     "output_type": "stream",
     "text": [
      "Pronto!\n"
     ]
    },
    {
     "name": "stderr",
     "output_type": "stream",
     "text": [
      "\r",
      "  0%|          | 0.00/4.79M [00:00<?, ?iB/s]"
     ]
    },
    {
     "name": "stdout",
     "output_type": "stream",
     "text": [
      "Buscando dados de 2002\n",
      "Página Encontrada\n",
      "Salvando Arquivo '2002.zip'\n"
     ]
    },
    {
     "name": "stderr",
     "output_type": "stream",
     "text": [
      "100%|██████████| 4.79M/4.79M [00:06<00:00, 790kiB/s]\n"
     ]
    },
    {
     "name": "stdout",
     "output_type": "stream",
     "text": [
      "Pronto!\n"
     ]
    },
    {
     "name": "stderr",
     "output_type": "stream",
     "text": [
      "\r",
      "  0%|          | 0.00/2.04M [00:00<?, ?iB/s]"
     ]
    },
    {
     "name": "stdout",
     "output_type": "stream",
     "text": [
      "Buscando dados de 2004\n",
      "Página Encontrada\n",
      "Salvando Arquivo '2004.zip'\n"
     ]
    },
    {
     "name": "stderr",
     "output_type": "stream",
     "text": [
      "100%|██████████| 2.04M/2.04M [00:03<00:00, 668kiB/s]\n"
     ]
    },
    {
     "name": "stdout",
     "output_type": "stream",
     "text": [
      "Pronto!\n"
     ]
    },
    {
     "name": "stderr",
     "output_type": "stream",
     "text": [
      "\r",
      "  0%|          | 0.00/4.89M [00:00<?, ?iB/s]"
     ]
    },
    {
     "name": "stdout",
     "output_type": "stream",
     "text": [
      "Buscando dados de 2006\n",
      "Página Encontrada\n",
      "Salvando Arquivo '2006.zip'\n"
     ]
    },
    {
     "name": "stderr",
     "output_type": "stream",
     "text": [
      "100%|██████████| 4.89M/4.89M [00:07<00:00, 637kiB/s]\n"
     ]
    },
    {
     "name": "stdout",
     "output_type": "stream",
     "text": [
      "Pronto!\n"
     ]
    },
    {
     "name": "stderr",
     "output_type": "stream",
     "text": [
      "\r",
      "  0%|          | 0.00/2.00M [00:00<?, ?iB/s]"
     ]
    },
    {
     "name": "stdout",
     "output_type": "stream",
     "text": [
      "Buscando dados de 2008\n",
      "Página Encontrada\n",
      "Salvando Arquivo '2008.zip'\n"
     ]
    },
    {
     "name": "stderr",
     "output_type": "stream",
     "text": [
      "100%|██████████| 2.00M/2.00M [00:02<00:00, 724kiB/s]\n"
     ]
    },
    {
     "name": "stdout",
     "output_type": "stream",
     "text": [
      "Pronto!\n",
      "Buscando dados de 2010\n"
     ]
    },
    {
     "name": "stderr",
     "output_type": "stream",
     "text": [
      "  2%|▏         | 92.2k/5.02M [00:00<00:07, 695kiB/s]"
     ]
    },
    {
     "name": "stdout",
     "output_type": "stream",
     "text": [
      "Página Encontrada\n",
      "Salvando Arquivo '2010.zip'\n"
     ]
    },
    {
     "name": "stderr",
     "output_type": "stream",
     "text": [
      "100%|██████████| 5.02M/5.02M [00:06<00:00, 798kiB/s]\n"
     ]
    },
    {
     "name": "stdout",
     "output_type": "stream",
     "text": [
      "Pronto!\n",
      "Buscando dados de 2012\n"
     ]
    },
    {
     "name": "stderr",
     "output_type": "stream",
     "text": [
      "  1%|▏         | 59.4k/4.22M [00:00<00:11, 375kiB/s]"
     ]
    },
    {
     "name": "stdout",
     "output_type": "stream",
     "text": [
      "Página Encontrada\n",
      "Salvando Arquivo '2012.zip'\n"
     ]
    },
    {
     "name": "stderr",
     "output_type": "stream",
     "text": [
      "100%|██████████| 4.22M/4.22M [00:05<00:00, 808kiB/s]\n"
     ]
    },
    {
     "name": "stdout",
     "output_type": "stream",
     "text": [
      "Pronto!\n"
     ]
    },
    {
     "name": "stderr",
     "output_type": "stream",
     "text": [
      "\r",
      "  0%|          | 0.00/11.3M [00:00<?, ?iB/s]"
     ]
    },
    {
     "name": "stdout",
     "output_type": "stream",
     "text": [
      "Buscando dados de 2014\n",
      "Página Encontrada\n",
      "Salvando Arquivo '2014.zip'\n"
     ]
    },
    {
     "name": "stderr",
     "output_type": "stream",
     "text": [
      "100%|██████████| 11.3M/11.3M [00:12<00:00, 875kiB/s]\n"
     ]
    },
    {
     "name": "stdout",
     "output_type": "stream",
     "text": [
      "Pronto!\n"
     ]
    },
    {
     "name": "stderr",
     "output_type": "stream",
     "text": [
      "\r",
      "  0%|          | 0.00/4.65M [00:00<?, ?iB/s]"
     ]
    },
    {
     "name": "stdout",
     "output_type": "stream",
     "text": [
      "Buscando dados de 2016\n",
      "Página Encontrada\n",
      "Salvando Arquivo '2016.zip'\n"
     ]
    },
    {
     "name": "stderr",
     "output_type": "stream",
     "text": [
      "100%|██████████| 4.65M/4.65M [00:08<00:00, 575kiB/s]\n"
     ]
    },
    {
     "name": "stdout",
     "output_type": "stream",
     "text": [
      "Pronto!\n"
     ]
    },
    {
     "name": "stderr",
     "output_type": "stream",
     "text": [
      "\r",
      "  0%|          | 0.00/34.2M [00:00<?, ?iB/s]"
     ]
    },
    {
     "name": "stdout",
     "output_type": "stream",
     "text": [
      "Buscando dados de 2018\n",
      "Página Encontrada\n",
      "Salvando Arquivo '2018.zip'\n"
     ]
    },
    {
     "name": "stderr",
     "output_type": "stream",
     "text": [
      "100%|██████████| 34.2M/34.2M [00:41<00:00, 819kiB/s]\n"
     ]
    },
    {
     "name": "stdout",
     "output_type": "stream",
     "text": [
      "Pronto!\n"
     ]
    },
    {
     "data": {
      "text/plain": [
       "True"
      ]
     },
     "execution_count": 21,
     "metadata": {},
     "output_type": "execute_result"
    }
   ],
   "source": [
    "baixar_dados(bases_tse[0])"
   ]
  },
  {
   "cell_type": "markdown",
   "metadata": {},
   "source": [
    "Base de candidatos"
   ]
  },
  {
   "cell_type": "code",
   "execution_count": 29,
   "metadata": {
    "ExecuteTime": {
     "end_time": "2019-11-10T15:07:42.793271Z",
     "start_time": "2019-11-10T15:00:27.745490Z"
    },
    "scrolled": true
   },
   "outputs": [
    {
     "name": "stdout",
     "output_type": "stream",
     "text": [
      "Buscando dados de 1994\n"
     ]
    },
    {
     "name": "stderr",
     "output_type": "stream",
     "text": [
      " 11%|█▏        | 92.2k/813k [00:00<00:01, 695kiB/s]"
     ]
    },
    {
     "name": "stdout",
     "output_type": "stream",
     "text": [
      "Página Encontrada\n",
      "Salvando Arquivo '1994.zip'\n"
     ]
    },
    {
     "name": "stderr",
     "output_type": "stream",
     "text": [
      "100%|██████████| 813k/813k [00:01<00:00, 712kiB/s] \n"
     ]
    },
    {
     "name": "stdout",
     "output_type": "stream",
     "text": [
      "Pronto!\n",
      "Buscando dados de 1996\n"
     ]
    },
    {
     "name": "stderr",
     "output_type": "stream",
     "text": [
      " 10%|▉         | 92.2k/940k [00:00<00:01, 763kiB/s]"
     ]
    },
    {
     "name": "stdout",
     "output_type": "stream",
     "text": [
      "Página Encontrada\n",
      "Salvando Arquivo '1996.zip'\n"
     ]
    },
    {
     "name": "stderr",
     "output_type": "stream",
     "text": [
      "100%|██████████| 940k/940k [00:01<00:00, 787kiB/s] \n"
     ]
    },
    {
     "name": "stdout",
     "output_type": "stream",
     "text": [
      "Pronto!\n"
     ]
    },
    {
     "name": "stderr",
     "output_type": "stream",
     "text": [
      "\r",
      "  0%|          | 0.00/1.59M [00:00<?, ?iB/s]"
     ]
    },
    {
     "name": "stdout",
     "output_type": "stream",
     "text": [
      "Buscando dados de 1998\n",
      "Página Encontrada\n",
      "Salvando Arquivo '1998.zip'\n"
     ]
    },
    {
     "name": "stderr",
     "output_type": "stream",
     "text": [
      "100%|██████████| 1.59M/1.59M [00:02<00:00, 777kiB/s]\n"
     ]
    },
    {
     "name": "stdout",
     "output_type": "stream",
     "text": [
      "Pronto!\n",
      "Buscando dados de 2000\n"
     ]
    },
    {
     "name": "stderr",
     "output_type": "stream",
     "text": [
      "  0%|          | 92.2k/23.3M [00:00<00:28, 812kiB/s]"
     ]
    },
    {
     "name": "stdout",
     "output_type": "stream",
     "text": [
      "Página Encontrada\n",
      "Salvando Arquivo '2000.zip'\n"
     ]
    },
    {
     "name": "stderr",
     "output_type": "stream",
     "text": [
      "100%|██████████| 23.3M/23.3M [00:29<00:00, 795kiB/s]\n"
     ]
    },
    {
     "name": "stdout",
     "output_type": "stream",
     "text": [
      "Pronto!\n"
     ]
    },
    {
     "name": "stderr",
     "output_type": "stream",
     "text": [
      "\r",
      "  0%|          | 0.00/1.96M [00:00<?, ?iB/s]"
     ]
    },
    {
     "name": "stdout",
     "output_type": "stream",
     "text": [
      "Buscando dados de 2002\n",
      "Página Encontrada\n",
      "Salvando Arquivo '2002.zip'\n"
     ]
    },
    {
     "name": "stderr",
     "output_type": "stream",
     "text": [
      "100%|██████████| 1.96M/1.96M [00:04<00:00, 482kiB/s]\n"
     ]
    },
    {
     "name": "stdout",
     "output_type": "stream",
     "text": [
      "Pronto!\n",
      "Buscando dados de 2004\n"
     ]
    },
    {
     "name": "stderr",
     "output_type": "stream",
     "text": [
      "  0%|          | 59.4k/25.5M [00:00<00:46, 549kiB/s]"
     ]
    },
    {
     "name": "stdout",
     "output_type": "stream",
     "text": [
      "Página Encontrada\n",
      "Salvando Arquivo '2004.zip'\n"
     ]
    },
    {
     "name": "stderr",
     "output_type": "stream",
     "text": [
      "100%|██████████| 25.5M/25.5M [00:33<00:00, 771kiB/s]\n"
     ]
    },
    {
     "name": "stdout",
     "output_type": "stream",
     "text": [
      "Pronto!\n",
      "Buscando dados de 2006\n"
     ]
    },
    {
     "name": "stderr",
     "output_type": "stream",
     "text": [
      "  4%|▍         | 90.1k/2.05M [00:00<00:02, 770kiB/s]"
     ]
    },
    {
     "name": "stdout",
     "output_type": "stream",
     "text": [
      "Página Encontrada\n",
      "Salvando Arquivo '2006.zip'\n"
     ]
    },
    {
     "name": "stderr",
     "output_type": "stream",
     "text": [
      "100%|██████████| 2.05M/2.05M [00:02<00:00, 789kiB/s]\n"
     ]
    },
    {
     "name": "stdout",
     "output_type": "stream",
     "text": [
      "Pronto!\n"
     ]
    },
    {
     "name": "stderr",
     "output_type": "stream",
     "text": [
      "\r",
      "  0%|          | 0.00/24.8M [00:00<?, ?iB/s]"
     ]
    },
    {
     "name": "stdout",
     "output_type": "stream",
     "text": [
      "Buscando dados de 2008\n",
      "Página Encontrada\n",
      "Salvando Arquivo '2008.zip'\n"
     ]
    },
    {
     "name": "stderr",
     "output_type": "stream",
     "text": [
      "100%|██████████| 24.8M/24.8M [00:35<00:00, 696kiB/s]\n"
     ]
    },
    {
     "name": "stdout",
     "output_type": "stream",
     "text": [
      "Pronto!\n",
      "Buscando dados de 2010\n"
     ]
    },
    {
     "name": "stderr",
     "output_type": "stream",
     "text": [
      "  3%|▎         | 59.4k/2.22M [00:00<00:06, 346kiB/s]"
     ]
    },
    {
     "name": "stdout",
     "output_type": "stream",
     "text": [
      "Página Encontrada\n",
      "Salvando Arquivo '2010.zip'\n"
     ]
    },
    {
     "name": "stderr",
     "output_type": "stream",
     "text": [
      "100%|██████████| 2.22M/2.22M [00:04<00:00, 457kiB/s]\n"
     ]
    },
    {
     "name": "stdout",
     "output_type": "stream",
     "text": [
      "Pronto!\n",
      "Buscando dados de 2012\n"
     ]
    },
    {
     "name": "stderr",
     "output_type": "stream",
     "text": [
      "  0%|          | 60.4k/34.5M [00:00<01:28, 388kiB/s]"
     ]
    },
    {
     "name": "stdout",
     "output_type": "stream",
     "text": [
      "Página Encontrada\n",
      "Salvando Arquivo '2012.zip'\n"
     ]
    },
    {
     "name": "stderr",
     "output_type": "stream",
     "text": [
      "100%|██████████| 34.5M/34.5M [00:46<00:00, 744kiB/s]\n"
     ]
    },
    {
     "name": "stdout",
     "output_type": "stream",
     "text": [
      "Pronto!\n",
      "Buscando dados de 2014\n"
     ]
    },
    {
     "name": "stderr",
     "output_type": "stream",
     "text": [
      "  1%|          | 59.4k/5.58M [00:00<00:09, 590kiB/s]"
     ]
    },
    {
     "name": "stdout",
     "output_type": "stream",
     "text": [
      "Página Encontrada\n",
      "Salvando Arquivo '2014.zip'\n"
     ]
    },
    {
     "name": "stderr",
     "output_type": "stream",
     "text": [
      "100%|██████████| 5.58M/5.58M [00:09<00:00, 589kiB/s]\n"
     ]
    },
    {
     "name": "stdout",
     "output_type": "stream",
     "text": [
      "Pronto!\n"
     ]
    },
    {
     "name": "stderr",
     "output_type": "stream",
     "text": [
      "\r",
      "  0%|          | 0.00/130M [00:00<?, ?iB/s]"
     ]
    },
    {
     "name": "stdout",
     "output_type": "stream",
     "text": [
      "Buscando dados de 2016\n",
      "Página Encontrada\n",
      "Salvando Arquivo '2016.zip'\n"
     ]
    },
    {
     "name": "stderr",
     "output_type": "stream",
     "text": [
      "100%|██████████| 130M/130M [03:30<00:00, 619kiB/s] \n"
     ]
    },
    {
     "name": "stdout",
     "output_type": "stream",
     "text": [
      "Pronto!\n",
      "Buscando dados de 2018\n"
     ]
    },
    {
     "name": "stderr",
     "output_type": "stream",
     "text": [
      "  1%|▏         | 81.9k/6.10M [00:00<00:07, 812kiB/s]"
     ]
    },
    {
     "name": "stdout",
     "output_type": "stream",
     "text": [
      "Página Encontrada\n",
      "Salvando Arquivo '2018.zip'\n"
     ]
    },
    {
     "name": "stderr",
     "output_type": "stream",
     "text": [
      "100%|██████████| 6.10M/6.10M [00:11<00:00, 516kiB/s]\n"
     ]
    },
    {
     "name": "stdout",
     "output_type": "stream",
     "text": [
      "Pronto!\n"
     ]
    },
    {
     "data": {
      "text/plain": [
       "True"
      ]
     },
     "execution_count": 29,
     "metadata": {},
     "output_type": "execute_result"
    }
   ],
   "source": [
    "baixar_dados(bases_tse[1])"
   ]
  }
 ],
 "metadata": {
  "kernelspec": {
   "display_name": "TensorFlow-GPU",
   "language": "python",
   "name": "tf-gpu"
  },
  "language_info": {
   "codemirror_mode": {
    "name": "ipython",
    "version": 3
   },
   "file_extension": ".py",
   "mimetype": "text/x-python",
   "name": "python",
   "nbconvert_exporter": "python",
   "pygments_lexer": "ipython3",
   "version": "3.6.6"
  },
  "toc": {
   "base_numbering": 1,
   "nav_menu": {},
   "number_sections": true,
   "sideBar": true,
   "skip_h1_title": false,
   "title_cell": "Table of Contents",
   "title_sidebar": "Contents",
   "toc_cell": false,
   "toc_position": {},
   "toc_section_display": true,
   "toc_window_display": false
  },
  "varInspector": {
   "cols": {
    "lenName": 16,
    "lenType": 16,
    "lenVar": 40
   },
   "kernels_config": {
    "python": {
     "delete_cmd_postfix": "",
     "delete_cmd_prefix": "del ",
     "library": "var_list.py",
     "varRefreshCmd": "print(var_dic_list())"
    },
    "r": {
     "delete_cmd_postfix": ") ",
     "delete_cmd_prefix": "rm(",
     "library": "var_list.r",
     "varRefreshCmd": "cat(var_dic_list()) "
    }
   },
   "types_to_exclude": [
    "module",
    "function",
    "builtin_function_or_method",
    "instance",
    "_Feature"
   ],
   "window_display": false
  }
 },
 "nbformat": 4,
 "nbformat_minor": 2
}
