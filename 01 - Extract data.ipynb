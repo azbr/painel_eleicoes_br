{
 "cells": [
  {
   "cell_type": "markdown",
   "metadata": {},
   "source": [
    "## Objective\n",
    "\n",
    "- Unzip the data from \"tribunal superior eleitoral\"\n",
    "- Create a folder for each year \n",
    "- Add data from: `perfil eleitorado`, `candidatos anos` and `resultado anos` for their respctive year"
   ]
  },
  {
   "cell_type": "code",
   "execution_count": 263,
   "metadata": {
    "ExecuteTime": {
     "end_time": "2020-01-25T11:55:54.017565Z",
     "start_time": "2020-01-25T11:55:53.948561Z"
    }
   },
   "outputs": [],
   "source": [
    "import os\n",
    "from zipfile import ZipFile\n",
    "from tqdm import tqdm\n",
    "from unidecode import unidecode\n",
    "import pandas as pd\n",
    "import matplotlib.pyplot as plt\n",
    "\n",
    "%matplotlib inline"
   ]
  },
  {
   "cell_type": "markdown",
   "metadata": {
    "heading_collapsed": true
   },
   "source": [
    "### Unzipping"
   ]
  },
  {
   "cell_type": "code",
   "execution_count": 37,
   "metadata": {
    "ExecuteTime": {
     "end_time": "2020-01-25T01:20:42.944348Z",
     "start_time": "2020-01-25T01:20:42.937349Z"
    },
    "hidden": true
   },
   "outputs": [],
   "source": [
    "def create_folder_unzip_files(path):\n",
    "    zip_files = os.listdir(path)\n",
    "    years = [year[:4] for year in zip_files]\n",
    "    for year in years:\n",
    "        os.mkdir(path + year)    \n",
    "        \n",
    "    for i, zipfile in tqdm(enumerate(zip_files)):\n",
    "        with ZipFile(path + zipfile, 'r') as zipObj:\n",
    "       # Extract all the contents of zip file in different directory\n",
    "            zipObj.extractall(path + years[i])"
   ]
  },
  {
   "cell_type": "markdown",
   "metadata": {
    "hidden": true
   },
   "source": [
    "#### Perfil eleitorado"
   ]
  },
  {
   "cell_type": "code",
   "execution_count": 38,
   "metadata": {
    "ExecuteTime": {
     "end_time": "2020-01-25T01:21:04.427770Z",
     "start_time": "2020-01-25T01:21:04.422790Z"
    },
    "hidden": true
   },
   "outputs": [],
   "source": [
    "path_perfil = 'bases/perfil_eleitorado/'"
   ]
  },
  {
   "cell_type": "code",
   "execution_count": 39,
   "metadata": {
    "ExecuteTime": {
     "end_time": "2020-01-25T01:21:14.303760Z",
     "start_time": "2020-01-25T01:21:07.183781Z"
    },
    "hidden": true
   },
   "outputs": [
    {
     "name": "stderr",
     "output_type": "stream",
     "text": [
      "13it [00:07,  1.83it/s]\n"
     ]
    }
   ],
   "source": [
    "create_folder_unzip_files(path_perfil)"
   ]
  },
  {
   "cell_type": "markdown",
   "metadata": {
    "hidden": true
   },
   "source": [
    "#### Candidatos anos"
   ]
  },
  {
   "cell_type": "code",
   "execution_count": 40,
   "metadata": {
    "ExecuteTime": {
     "end_time": "2020-01-25T01:22:19.064317Z",
     "start_time": "2020-01-25T01:22:19.061316Z"
    },
    "hidden": true
   },
   "outputs": [],
   "source": [
    "path_candidatos = 'bases/candidatos_anos/'"
   ]
  },
  {
   "cell_type": "code",
   "execution_count": 41,
   "metadata": {
    "ExecuteTime": {
     "end_time": "2020-01-25T01:22:45.512383Z",
     "start_time": "2020-01-25T01:22:32.338421Z"
    },
    "hidden": true
   },
   "outputs": [
    {
     "name": "stderr",
     "output_type": "stream",
     "text": [
      "13it [00:13,  1.01s/it]\n"
     ]
    }
   ],
   "source": [
    "create_folder_unzip_files(path_candidatos)"
   ]
  },
  {
   "cell_type": "markdown",
   "metadata": {
    "hidden": true
   },
   "source": [
    "#### Resultado anos"
   ]
  },
  {
   "cell_type": "code",
   "execution_count": 43,
   "metadata": {
    "ExecuteTime": {
     "end_time": "2020-01-25T01:23:23.249626Z",
     "start_time": "2020-01-25T01:23:16.170657Z"
    },
    "hidden": true
   },
   "outputs": [
    {
     "name": "stderr",
     "output_type": "stream",
     "text": [
      "13it [00:07,  1.84it/s]\n"
     ]
    }
   ],
   "source": [
    "path_resultado = 'bases/resultados_anos/'\n",
    "create_folder_unzip_files(path_resultado)"
   ]
  }
 ],
 "metadata": {
  "kernelspec": {
   "display_name": "Python 3",
   "language": "python",
   "name": "python3"
  },
  "language_info": {
   "codemirror_mode": {
    "name": "ipython",
    "version": 3
   },
   "file_extension": ".py",
   "mimetype": "text/x-python",
   "name": "python",
   "nbconvert_exporter": "python",
   "pygments_lexer": "ipython3",
   "version": "3.7.3"
  }
 },
 "nbformat": 4,
 "nbformat_minor": 2
}
